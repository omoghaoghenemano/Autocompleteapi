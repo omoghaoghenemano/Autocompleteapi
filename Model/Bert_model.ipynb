{
 "cells": [
  {
   "cell_type": "code",
   "execution_count": null,
   "id": "ce05e696-077d-4969-b5b8-202a48887d93",
   "metadata": {},
   "outputs": [],
   "source": [
    "from transformers import BertTokenizer, BertForMaskedLM  \n",
    "  \n",
    "# Load the pre-trained BERT model and tokenizer  \n",
    "model_name = 'bert-base-uncased'  \n",
    "tokenizer = BertTokenizer.from_pretrained(model_name)  \n",
    "model = BertForMaskedLM.from_pretrained(model_name)  \n",
    "  \n"
   ]
  },
  {
   "cell_type": "code",
   "execution_count": 25,
   "id": "b202cd14-0da5-4770-b81b-eee1938ef0ef",
   "metadata": {},
   "outputs": [
    {
     "name": "stdout",
     "output_type": "stream",
     "text": [
      "Predicted next words:\n",
      "['i', 'want', 'to', '\"']\n",
      "['i', 'want', 'to', '.']\n",
      "['i', 'want', 'to', 'the']\n",
      "['i', 'want', 'to', 'to']\n",
      "['i', 'want', 'to', 'be']\n"
     ]
    }
   ],
   "source": [
    "import torch\n",
    "\n",
    "#Test case\n",
    "sentence = \"I want to\"  \n",
    "# Tokenize the sentence  \n",
    "tokens = tokenizer.tokenize(sentence)  \n",
    "masked_index = len(tokens)  \n",
    "  \n",
    "# Add the [MASK] token at the end of the list  \n",
    "tokens.append('[MASK]')  \n",
    "  \n",
    "# Convert tokens to input tensor  \n",
    "token_ids = tokenizer.convert_tokens_to_ids(tokens)  \n",
    "token_tensor = torch.tensor([token_ids])  \n",
    "  \n",
    "# Predict the next word  \n",
    "with torch.no_grad():  \n",
    "    outputs = model(token_tensor)  \n",
    "    predictions = outputs[0][0, masked_index].topk(k=5).indices.tolist()  \n",
    "  \n",
    "# Convert predicted token IDs to words  \n",
    "predicted_words = tokenizer.convert_ids_to_tokens(predictions)  \n",
    "  \n",
    "# Print the predicted words  \n",
    "print(\"Predicted next words:\")  \n",
    "for word in predicted_words:  \n",
    "    print(tokens[:masked_index] + [word]) "
   ]
  },
  {
   "cell_type": "code",
   "execution_count": null,
   "id": "0e3133b9-a730-43d8-bb26-1c8738e27e49",
   "metadata": {},
   "outputs": [],
   "source": []
  }
 ],
 "metadata": {
  "kernelspec": {
   "display_name": "Python 3 (ipykernel)",
   "language": "python",
   "name": "python3"
  },
  "language_info": {
   "codemirror_mode": {
    "name": "ipython",
    "version": 3
   },
   "file_extension": ".py",
   "mimetype": "text/x-python",
   "name": "python",
   "nbconvert_exporter": "python",
   "pygments_lexer": "ipython3",
   "version": "3.10.9"
  }
 },
 "nbformat": 4,
 "nbformat_minor": 5
}
