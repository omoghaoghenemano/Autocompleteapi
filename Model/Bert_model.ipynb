{
 "cells": [
  {
   "cell_type": "code",
   "execution_count": null,
   "id": "ce05e696-077d-4969-b5b8-202a48887d93",
   "metadata": {},
   "outputs": [
    {
     "name": "stderr",
     "output_type": "stream",
     "text": [
      "Some weights of the model checkpoint at bert-base-uncased were not used when initializing BertForMaskedLM: ['cls.seq_relationship.weight', 'cls.seq_relationship.bias']\n",
      "- This IS expected if you are initializing BertForMaskedLM from the checkpoint of a model trained on another task or with another architecture (e.g. initializing a BertForSequenceClassification model from a BertForPreTraining model).\n",
      "- This IS NOT expected if you are initializing BertForMaskedLM from the checkpoint of a model that you expect to be exactly identical (initializing a BertForSequenceClassification model from a BertForSequenceClassification model).\n"
     ]
    }
   ],
   "source": [
    "from transformers import BertTokenizer, BertForMaskedLM  \n",
    "  \n",
    "# Load the pre-trained BERT model and tokenizer  \n",
    "model_name = 'bert-base-uncased'  \n",
    "tokenizer = BertTokenizer.from_pretrained(model_name)  \n",
    "model = BertForMaskedLM.from_pretrained(model_name)  \n",
    "  \n"
   ]
  },
  {
   "cell_type": "code",
   "execution_count": 19,
   "id": "b202cd14-0da5-4770-b81b-eee1938ef0ef",
   "metadata": {},
   "outputs": [
    {
     "name": "stdout",
     "output_type": "stream",
     "text": [
      "Predicted next word: her\n",
      "Probability: 0.03425140678882599\n"
     ]
    }
   ],
   "source": [
    "def predict_next_word(sentence):  \n",
    "    tokens = tokenizer.tokenize(sentence)  \n",
    "    masked_index = tokens.index(\"[MASK]\")  \n",
    "    token_ids = tokenizer.convert_tokens_to_ids(tokens)  \n",
    "    token_tensor = torch.tensor([token_ids])  \n",
    "      \n",
    "    with torch.no_grad():  \n",
    "        outputs = model(token_tensor)  \n",
    "        predictions = outputs[0][0, masked_index]  \n",
    "        predicted_token_id = predictions.argmax().item()  \n",
    "        predicted_word = tokenizer.convert_ids_to_tokens(predicted_token_id)  \n",
    "        probability = torch.softmax(predictions, dim=-1)[predicted_token_id].item()  \n",
    "      \n",
    "    return predicted_word, probability  \n",
    "  \n",
    "# Example usage  \n",
    "sentence = \"I want to be with [MASK]\"  \n",
    "predicted_word, probability = predict_next_word(sentence)  \n",
    "print(\"Predicted next word:\", predicted_word)  \n",
    "print(\"Probability:\", probability)    "
   ]
  },
  {
   "cell_type": "code",
   "execution_count": null,
   "id": "0e3133b9-a730-43d8-bb26-1c8738e27e49",
   "metadata": {},
   "outputs": [],
   "source": [
    "#"
   ]
  },
  {
   "cell_type": "code",
   "execution_count": null,
   "id": "0b18b6c0-b9a7-4d03-a15b-f6632d43034a",
   "metadata": {},
   "outputs": [],
   "source": []
  }
 ],
 "metadata": {
  "kernelspec": {
   "display_name": "Python 3 (ipykernel)",
   "language": "python",
   "name": "python3"
  },
  "language_info": {
   "codemirror_mode": {
    "name": "ipython",
    "version": 3
   },
   "file_extension": ".py",
   "mimetype": "text/x-python",
   "name": "python",
   "nbconvert_exporter": "python",
   "pygments_lexer": "ipython3",
   "version": "3.10.9"
  }
 },
 "nbformat": 4,
 "nbformat_minor": 5
}
